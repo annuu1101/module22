{
  "nbformat": 4,
  "nbformat_minor": 0,
  "metadata": {
    "colab": {
      "provenance": [],
      "include_colab_link": true
    },
    "kernelspec": {
      "name": "python3",
      "display_name": "Python 3"
    },
    "language_info": {
      "name": "python"
    }
  },
  "cells": [
    {
      "cell_type": "markdown",
      "metadata": {
        "id": "view-in-github",
        "colab_type": "text"
      },
      "source": [
        "<a href=\"https://colab.research.google.com/github/annuu1101/module22/blob/main/prac10%20algorithm_fundamentals_Oct10_2023.ipynb\" target=\"_parent\"><img src=\"https://colab.research.google.com/assets/colab-badge.svg\" alt=\"Open In Colab\"/></a>"
      ]
    },
    {
      "cell_type": "code",
      "execution_count": null,
      "metadata": {
        "id": "P_nBeGn9Auce"
      },
      "outputs": [],
      "source": [
        "# you have a user input which is in 24:00 time format\n",
        "# you need to convert it into 12 hour of format\n",
        "# and put am/pm"
      ]
    },
    {
      "cell_type": "code",
      "source": [],
      "metadata": {
        "id": "VXgXQ331EcOx"
      },
      "execution_count": null,
      "outputs": []
    },
    {
      "cell_type": "code",
      "source": [
        "\n",
        "def convert_to_12(t):\n",
        "\n",
        "  hours, minutes = t.split(':')\n",
        "\n",
        "  if int(hours) == 0:\n",
        "    new_hours = 12\n",
        "    am_pm = 'am'\n",
        "  elif int(hours) < 12:\n",
        "    new_hours = hours\n",
        "    am_pm = 'am'\n",
        "  elif int(hours) >= 12:\n",
        "    new_hours = int(hours) - 12\n",
        "    am_pm = 'pm'\n",
        "\n",
        "\n",
        "  return new_hours, minutes, am_pm\n"
      ],
      "metadata": {
        "id": "VBemWQLtENmu"
      },
      "execution_count": null,
      "outputs": []
    },
    {
      "cell_type": "code",
      "source": [
        "user = input('enter time seperated by : ')\n",
        "nh, m, ampm = convert_to_12(user)\n",
        "\n",
        "print(f'the user has given {user}, and the time acc to 12 hours clock is {nh}:{m} {ampm}')\n"
      ],
      "metadata": {
        "colab": {
          "base_uri": "https://localhost:8080/"
        },
        "id": "xdw33l5jFVgh",
        "outputId": "5b26d5ff-50a2-402e-9cf5-4c4adc3287f3"
      },
      "execution_count": null,
      "outputs": [
        {
          "output_type": "stream",
          "name": "stdout",
          "text": [
            "enter time seperated by : 20:20\n",
            "the user has given 20:20, and the time acc to 12 hours clock is 8:20,pm\n"
          ]
        }
      ]
    },
    {
      "cell_type": "code",
      "source": [
        "'19:20'.split(':')\n"
      ],
      "metadata": {
        "colab": {
          "base_uri": "https://localhost:8080/"
        },
        "id": "SCt4ye_kFqtw",
        "outputId": "3b906d6a-5487-4fbb-c8cb-d9606e98c3e0"
      },
      "execution_count": null,
      "outputs": [
        {
          "output_type": "execute_result",
          "data": {
            "text/plain": [
              "['19', '20']"
            ]
          },
          "metadata": {},
          "execution_count": 11
        }
      ]
    },
    {
      "cell_type": "code",
      "source": [
        "# bubble sort"
      ],
      "metadata": {
        "id": "tNyefRoQGtd4"
      },
      "execution_count": null,
      "outputs": []
    },
    {
      "cell_type": "code",
      "source": [
        "li = [5, 2, 7, 3, 1, 8, 6, 4]\n"
      ],
      "metadata": {
        "id": "UHuuJqyjLBjT"
      },
      "execution_count": null,
      "outputs": []
    },
    {
      "cell_type": "code",
      "source": [
        "n = len(li)\n",
        "for i in range(n): # 0 - 7 , 1\n",
        "  for j in range(0,n-i-1): # 6\n",
        "    if li[j] > li[j+1]:\n",
        "      li[j],li[j+1] = li[j+1],li[j]\n",
        "      print(li)\n",
        "    print(li)\n",
        "\n",
        "\n",
        "# [5, 2, 7, 3, 1, 8, 6, 4]"
      ],
      "metadata": {
        "colab": {
          "base_uri": "https://localhost:8080/"
        },
        "id": "xGrwvVMILJUl",
        "outputId": "7db1353e-8580-484e-bd48-4f36ea1601dc"
      },
      "execution_count": null,
      "outputs": [
        {
          "output_type": "stream",
          "name": "stdout",
          "text": [
            "[2, 5, 7, 3, 1, 8, 6, 4]\n",
            "[2, 5, 7, 3, 1, 8, 6, 4]\n",
            "[2, 5, 7, 3, 1, 8, 6, 4]\n",
            "[2, 5, 3, 7, 1, 8, 6, 4]\n",
            "[2, 5, 3, 7, 1, 8, 6, 4]\n",
            "[2, 5, 3, 1, 7, 8, 6, 4]\n",
            "[2, 5, 3, 1, 7, 8, 6, 4]\n",
            "[2, 5, 3, 1, 7, 8, 6, 4]\n",
            "[2, 5, 3, 1, 7, 6, 8, 4]\n",
            "[2, 5, 3, 1, 7, 6, 8, 4]\n",
            "[2, 5, 3, 1, 7, 6, 4, 8]\n",
            "[2, 5, 3, 1, 7, 6, 4, 8]\n",
            "[2, 5, 3, 1, 7, 6, 4, 8]\n",
            "[2, 3, 5, 1, 7, 6, 4, 8]\n",
            "[2, 3, 5, 1, 7, 6, 4, 8]\n",
            "[2, 3, 1, 5, 7, 6, 4, 8]\n",
            "[2, 3, 1, 5, 7, 6, 4, 8]\n",
            "[2, 3, 1, 5, 7, 6, 4, 8]\n",
            "[2, 3, 1, 5, 6, 7, 4, 8]\n",
            "[2, 3, 1, 5, 6, 7, 4, 8]\n",
            "[2, 3, 1, 5, 6, 4, 7, 8]\n",
            "[2, 3, 1, 5, 6, 4, 7, 8]\n",
            "[2, 3, 1, 5, 6, 4, 7, 8]\n",
            "[2, 3, 1, 5, 6, 4, 7, 8]\n",
            "[2, 1, 3, 5, 6, 4, 7, 8]\n",
            "[2, 1, 3, 5, 6, 4, 7, 8]\n",
            "[2, 1, 3, 5, 6, 4, 7, 8]\n",
            "[2, 1, 3, 5, 6, 4, 7, 8]\n",
            "[2, 1, 3, 5, 4, 6, 7, 8]\n",
            "[2, 1, 3, 5, 4, 6, 7, 8]\n",
            "[2, 1, 3, 5, 4, 6, 7, 8]\n",
            "[2, 1, 3, 5, 4, 6, 7, 8]\n",
            "[1, 2, 3, 5, 4, 6, 7, 8]\n",
            "[1, 2, 3, 5, 4, 6, 7, 8]\n",
            "[1, 2, 3, 5, 4, 6, 7, 8]\n",
            "[1, 2, 3, 5, 4, 6, 7, 8]\n",
            "[1, 2, 3, 4, 5, 6, 7, 8]\n",
            "[1, 2, 3, 4, 5, 6, 7, 8]\n",
            "[1, 2, 3, 4, 5, 6, 7, 8]\n",
            "[1, 2, 3, 4, 5, 6, 7, 8]\n",
            "[1, 2, 3, 4, 5, 6, 7, 8]\n",
            "[1, 2, 3, 4, 5, 6, 7, 8]\n",
            "[1, 2, 3, 4, 5, 6, 7, 8]\n",
            "[1, 2, 3, 4, 5, 6, 7, 8]\n",
            "[1, 2, 3, 4, 5, 6, 7, 8]\n",
            "[1, 2, 3, 4, 5, 6, 7, 8]\n",
            "[1, 2, 3, 4, 5, 6, 7, 8]\n",
            "[1, 2, 3, 4, 5, 6, 7, 8]\n",
            "[1, 2, 3, 4, 5, 6, 7, 8]\n",
            "[1, 2, 3, 4, 5, 6, 7, 8]\n",
            "[1, 2, 3, 4, 5, 6, 7, 8]\n",
            "[1, 2, 3, 4, 5, 6, 7, 8]\n",
            "[1, 2, 3, 4, 5, 6, 7, 8]\n",
            "[1, 2, 3, 4, 5, 6, 7, 8]\n",
            "[1, 2, 3, 4, 5, 6, 7, 8]\n",
            "[1, 2, 3, 4, 5, 6, 7, 8]\n",
            "[1, 2, 3, 4, 5, 6, 7, 8]\n",
            "[1, 2, 3, 4, 5, 6, 7, 8]\n",
            "[1, 2, 3, 4, 5, 6, 7, 8]\n",
            "[1, 2, 3, 4, 5, 6, 7, 8]\n",
            "[1, 2, 3, 4, 5, 6, 7, 8]\n",
            "[1, 2, 3, 4, 5, 6, 7, 8]\n",
            "[1, 2, 3, 4, 5, 6, 7, 8]\n",
            "[1, 2, 3, 4, 5, 6, 7, 8]\n",
            "[1, 2, 3, 4, 5, 6, 7, 8]\n",
            "[1, 2, 3, 4, 5, 6, 7, 8]\n",
            "[1, 2, 3, 4, 5, 6, 7, 8]\n",
            "[1, 2, 3, 4, 5, 6, 7, 8]\n",
            "[1, 2, 3, 4, 5, 6, 7, 8]\n"
          ]
        }
      ]
    },
    {
      "cell_type": "code",
      "source": [
        "li\n"
      ],
      "metadata": {
        "colab": {
          "base_uri": "https://localhost:8080/"
        },
        "id": "Q8l6DvNPLrG-",
        "outputId": "030e2ece-ce57-4c2c-ac4a-b4cec7c2bac7"
      },
      "execution_count": null,
      "outputs": [
        {
          "output_type": "execute_result",
          "data": {
            "text/plain": [
              "[1, 2, 3, 4, 5, 6, 7, 8]"
            ]
          },
          "metadata": {},
          "execution_count": 32
        }
      ]
    },
    {
      "cell_type": "code",
      "source": [
        "# inbuilt method for sorting"
      ],
      "metadata": {
        "id": "fRJ4ETJWMNR6"
      },
      "execution_count": null,
      "outputs": []
    },
    {
      "cell_type": "code",
      "source": [
        "li = [5, 2, 7, 3, 1, 8, 6, 4]\n"
      ],
      "metadata": {
        "id": "Cy5B0punSarp"
      },
      "execution_count": null,
      "outputs": []
    },
    {
      "cell_type": "code",
      "source": [
        "li.sort()"
      ],
      "metadata": {
        "id": "jCXo_Wd3Sckc"
      },
      "execution_count": null,
      "outputs": []
    },
    {
      "cell_type": "code",
      "source": [
        "li"
      ],
      "metadata": {
        "colab": {
          "base_uri": "https://localhost:8080/"
        },
        "id": "T_FXESCtSddF",
        "outputId": "9aab3301-8ff5-4575-81c9-1914747dd0a6"
      },
      "execution_count": null,
      "outputs": [
        {
          "output_type": "execute_result",
          "data": {
            "text/plain": [
              "[1, 2, 3, 4, 5, 6, 7, 8]"
            ]
          },
          "metadata": {},
          "execution_count": 36
        }
      ]
    },
    {
      "cell_type": "code",
      "source": [
        "# searching"
      ],
      "metadata": {
        "id": "8dzr-GOESfK8"
      },
      "execution_count": null,
      "outputs": []
    },
    {
      "cell_type": "code",
      "source": [
        "# linear search"
      ],
      "metadata": {
        "id": "Rfp-bqy0TRGb"
      },
      "execution_count": null,
      "outputs": []
    },
    {
      "cell_type": "code",
      "source": [
        "li"
      ],
      "metadata": {
        "colab": {
          "base_uri": "https://localhost:8080/"
        },
        "id": "zku9VQnQTSwi",
        "outputId": "54203a37-fa32-4860-9c3f-3d83506504ac"
      },
      "execution_count": null,
      "outputs": [
        {
          "output_type": "execute_result",
          "data": {
            "text/plain": [
              "[1, 2, 3, 4, 5, 6, 7, 8]"
            ]
          },
          "metadata": {},
          "execution_count": 39
        }
      ]
    },
    {
      "cell_type": "code",
      "source": [
        "f = 6\n",
        "\n",
        "for index, i in enumerate(li):\n",
        "  if i == f:\n",
        "    print('the value is there in the array at, ', index)\n",
        "    break"
      ],
      "metadata": {
        "colab": {
          "base_uri": "https://localhost:8080/"
        },
        "id": "5NnZPnMGTTeW",
        "outputId": "81cc45b6-0a27-42f2-b9af-57610437036c"
      },
      "execution_count": null,
      "outputs": [
        {
          "output_type": "stream",
          "name": "stdout",
          "text": [
            "the value is there in the array at,  5\n"
          ]
        }
      ]
    },
    {
      "cell_type": "code",
      "source": [
        "li.index(6)"
      ],
      "metadata": {
        "colab": {
          "base_uri": "https://localhost:8080/"
        },
        "id": "9VIHVfy-TdV8",
        "outputId": "082cfe38-fc5e-429e-a656-04a2ef3200b1"
      },
      "execution_count": null,
      "outputs": [
        {
          "output_type": "execute_result",
          "data": {
            "text/plain": [
              "5"
            ]
          },
          "metadata": {},
          "execution_count": 43
        }
      ]
    },
    {
      "cell_type": "code",
      "source": [
        "# recursion"
      ],
      "metadata": {
        "id": "v2moIgUuUEzq"
      },
      "execution_count": null,
      "outputs": []
    },
    {
      "cell_type": "code",
      "source": [
        "def f_rec_search(li,num_to_find):\n",
        "  if len(li) == 0:\n",
        "    return False\n",
        "\n",
        "  if li[0] == num_to_find:\n",
        "    return True\n",
        "\n",
        "  return f_rec_search(li[1:], num_to_find)"
      ],
      "metadata": {
        "id": "TvZWUWoNUQFG"
      },
      "execution_count": null,
      "outputs": []
    },
    {
      "cell_type": "code",
      "source": [
        "f_rec_search(li,8)"
      ],
      "metadata": {
        "colab": {
          "base_uri": "https://localhost:8080/"
        },
        "id": "PDh1DQK0UjTe",
        "outputId": "22fbb619-016e-4746-b6f1-b81769d5be26"
      },
      "execution_count": null,
      "outputs": [
        {
          "output_type": "execute_result",
          "data": {
            "text/plain": [
              "True"
            ]
          },
          "metadata": {},
          "execution_count": 51
        }
      ]
    },
    {
      "cell_type": "code",
      "source": [
        "li"
      ],
      "metadata": {
        "colab": {
          "base_uri": "https://localhost:8080/"
        },
        "id": "6ZfkFME0UlUJ",
        "outputId": "73401d8a-9087-4276-99b3-1f3cd998cf86"
      },
      "execution_count": null,
      "outputs": [
        {
          "output_type": "execute_result",
          "data": {
            "text/plain": [
              "[1, 2, 3, 4, 5, 6, 7, 8]"
            ]
          },
          "metadata": {},
          "execution_count": 48
        }
      ]
    },
    {
      "cell_type": "code",
      "source": [
        "# binary search"
      ],
      "metadata": {
        "id": "NVDoeI-RVweM"
      },
      "execution_count": null,
      "outputs": []
    },
    {
      "cell_type": "code",
      "source": [],
      "metadata": {
        "id": "GWZmMqBQYxJf"
      },
      "execution_count": null,
      "outputs": []
    },
    {
      "cell_type": "code",
      "source": [
        "li"
      ],
      "metadata": {
        "colab": {
          "base_uri": "https://localhost:8080/"
        },
        "id": "LeA7czxoZo1n",
        "outputId": "a4ec044e-2409-45b4-9654-0ddad155153a"
      },
      "execution_count": null,
      "outputs": [
        {
          "output_type": "execute_result",
          "data": {
            "text/plain": [
              "[1, 2, 3, 4, 5, 6, 7, 8]"
            ]
          },
          "metadata": {},
          "execution_count": 77
        }
      ]
    },
    {
      "cell_type": "code",
      "source": [
        "def rec_bin_search(li, num_to_find):\n",
        "    if len(li) == 0:\n",
        "        return False\n",
        "\n",
        "    mid = len(li) // 2  # Calculate the middle index\n",
        "\n",
        "    if li[mid] == num_to_find:\n",
        "        return True\n",
        "\n",
        "    if li[mid] < num_to_find:\n",
        "        # If the middle element is less than the target, search the right half\n",
        "        return rec_bin_search(li[mid + 1:], num_to_find)\n",
        "    else:\n",
        "        # If the middle element is greater than the target, search the left half\n",
        "        return rec_bin_search(li[:mid], num_to_find)\n"
      ],
      "metadata": {
        "id": "TXVQB3OyZv3b"
      },
      "execution_count": null,
      "outputs": []
    },
    {
      "cell_type": "code",
      "source": [
        "rec_bin_search(li,8)"
      ],
      "metadata": {
        "colab": {
          "base_uri": "https://localhost:8080/"
        },
        "id": "9baxkmI4ZmJK",
        "outputId": "c6332e59-558f-48eb-c645-ee35b18b37f6"
      },
      "execution_count": null,
      "outputs": [
        {
          "output_type": "execute_result",
          "data": {
            "text/plain": [
              "True"
            ]
          },
          "metadata": {},
          "execution_count": 84
        }
      ]
    },
    {
      "cell_type": "code",
      "source": [],
      "metadata": {
        "id": "xBoTYQtFbkVO"
      },
      "execution_count": null,
      "outputs": []
    }
  ]
}