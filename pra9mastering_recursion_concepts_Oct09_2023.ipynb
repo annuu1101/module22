{
  "nbformat": 4,
  "nbformat_minor": 0,
  "metadata": {
    "colab": {
      "provenance": [],
      "include_colab_link": true
    },
    "kernelspec": {
      "name": "python3",
      "display_name": "Python 3"
    },
    "language_info": {
      "name": "python"
    }
  },
  "cells": [
    {
      "cell_type": "markdown",
      "metadata": {
        "id": "view-in-github",
        "colab_type": "text"
      },
      "source": [
        "<a href=\"https://colab.research.google.com/github/annuu1101/module22/blob/main/pra9mastering_recursion_concepts_Oct09_2023.ipynb\" target=\"_parent\"><img src=\"https://colab.research.google.com/assets/colab-badge.svg\" alt=\"Open In Colab\"/></a>"
      ]
    },
    {
      "cell_type": "code",
      "execution_count": null,
      "metadata": {
        "id": "v8974bZ202uc"
      },
      "outputs": [],
      "source": [
        "li = [12,1312,412412,34124,12412,4,124,21412,4]"
      ]
    },
    {
      "cell_type": "code",
      "source": [
        "for i in li:\n",
        "  print(i)"
      ],
      "metadata": {
        "colab": {
          "base_uri": "https://localhost:8080/"
        },
        "id": "0L3oesME32jA",
        "outputId": "5846a027-3178-4d22-f1da-a2936414f17f"
      },
      "execution_count": null,
      "outputs": [
        {
          "output_type": "stream",
          "name": "stdout",
          "text": [
            "12\n",
            "1312\n",
            "412412\n",
            "34124\n",
            "12412\n",
            "4\n",
            "124\n",
            "21412\n",
            "4\n"
          ]
        }
      ]
    },
    {
      "cell_type": "code",
      "source": [
        "def f(a):\n",
        "  \"\"\" This function prints every elem of a list using recursion \"\"\"\n",
        "\n",
        "  # base case\n",
        "  if len(a) == 0:\n",
        "    return\n",
        "\n",
        "  print(a[0])\n",
        "  # recursive call\n",
        "  return f(a[1:])"
      ],
      "metadata": {
        "id": "wJk3HPnu35P2"
      },
      "execution_count": null,
      "outputs": []
    },
    {
      "cell_type": "code",
      "source": [
        "f([1,2,3,4,5])"
      ],
      "metadata": {
        "colab": {
          "base_uri": "https://localhost:8080/"
        },
        "id": "9Jk-dgkx4onZ",
        "outputId": "d92051e1-b2ca-4067-b411-aa7859d30ed3"
      },
      "execution_count": null,
      "outputs": [
        {
          "output_type": "stream",
          "name": "stdout",
          "text": [
            "1\n",
            "2\n",
            "3\n",
            "4\n",
            "5\n"
          ]
        }
      ]
    },
    {
      "cell_type": "code",
      "source": [
        "# print all the elem starting from the last using iteration and recursion"
      ],
      "metadata": {
        "id": "HzCusNKj4qXP"
      },
      "execution_count": null,
      "outputs": []
    },
    {
      "cell_type": "code",
      "source": [
        "# iteration"
      ],
      "metadata": {
        "id": "VRp9dMDD5JMq"
      },
      "execution_count": null,
      "outputs": []
    },
    {
      "cell_type": "code",
      "source": [
        "li"
      ],
      "metadata": {
        "colab": {
          "base_uri": "https://localhost:8080/"
        },
        "id": "OOKS4l_25KGl",
        "outputId": "1984c373-a806-4992-bea6-ab335c1bcda7"
      },
      "execution_count": null,
      "outputs": [
        {
          "output_type": "execute_result",
          "data": {
            "text/plain": [
              "[12, 1312, 412412, 34124, 12412, 4, 124, 21412, 4]"
            ]
          },
          "metadata": {},
          "execution_count": 8
        }
      ]
    },
    {
      "cell_type": "code",
      "source": [
        "li = [12, 1312, 412412, 34124, 12412, 4, 124, 21412, 4, 12, 1312, 412412, 34124, 12412, 4, 124, 21412, 4]\n"
      ],
      "metadata": {
        "id": "imekeQIQ7moX"
      },
      "execution_count": null,
      "outputs": []
    },
    {
      "cell_type": "code",
      "source": [
        "%%time\n",
        "for i in li[::-1]: # reverse of a list\n",
        "  print(i)"
      ],
      "metadata": {
        "colab": {
          "base_uri": "https://localhost:8080/"
        },
        "id": "ruFtbpQq5UiS",
        "outputId": "523e1d45-5abb-497c-bd8f-684530cba77c"
      },
      "execution_count": null,
      "outputs": [
        {
          "output_type": "stream",
          "name": "stdout",
          "text": [
            "4\n",
            "21412\n",
            "124\n",
            "4\n",
            "12412\n",
            "34124\n",
            "412412\n",
            "1312\n",
            "12\n",
            "4\n",
            "21412\n",
            "124\n",
            "4\n",
            "12412\n",
            "34124\n",
            "412412\n",
            "1312\n",
            "12\n",
            "CPU times: user 1.47 ms, sys: 0 ns, total: 1.47 ms\n",
            "Wall time: 1.43 ms\n"
          ]
        }
      ]
    },
    {
      "cell_type": "code",
      "source": [],
      "metadata": {
        "id": "eAvJD3oT5WdK"
      },
      "execution_count": null,
      "outputs": []
    },
    {
      "cell_type": "code",
      "source": [
        "#recursion"
      ],
      "metadata": {
        "id": "4Id5WFtL5yAS"
      },
      "execution_count": null,
      "outputs": []
    },
    {
      "cell_type": "code",
      "source": [
        "li[0:-1]"
      ],
      "metadata": {
        "colab": {
          "base_uri": "https://localhost:8080/"
        },
        "id": "GsqY16K95-jh",
        "outputId": "7f9ebd2a-ce29-4d58-e6b2-1d42fe7ed711"
      },
      "execution_count": null,
      "outputs": [
        {
          "output_type": "execute_result",
          "data": {
            "text/plain": [
              "[12, 1312, 412412, 34124, 12412, 4, 124, 21412]"
            ]
          },
          "metadata": {},
          "execution_count": 17
        }
      ]
    },
    {
      "cell_type": "code",
      "source": [
        "\n",
        "def f_r(li):\n",
        "  if len(li) == 0:\n",
        "    return\n",
        "\n",
        "  print(li[-1])\n",
        "  return f_r(li[0:-1])"
      ],
      "metadata": {
        "id": "MQOkqF9Q6KJ2"
      },
      "execution_count": null,
      "outputs": []
    },
    {
      "cell_type": "code",
      "source": [
        "%%time\n",
        "f_r(li)"
      ],
      "metadata": {
        "colab": {
          "base_uri": "https://localhost:8080/"
        },
        "id": "Zpskceqf6Nr2",
        "outputId": "df6ee807-db2d-492d-f880-5b44eaffa5ba"
      },
      "execution_count": null,
      "outputs": [
        {
          "output_type": "stream",
          "name": "stdout",
          "text": [
            "4\n",
            "21412\n",
            "124\n",
            "4\n",
            "12412\n",
            "34124\n",
            "412412\n",
            "1312\n",
            "12\n",
            "4\n",
            "21412\n",
            "124\n",
            "4\n",
            "12412\n",
            "34124\n",
            "412412\n",
            "1312\n",
            "12\n",
            "CPU times: user 6.72 ms, sys: 53 µs, total: 6.77 ms\n",
            "Wall time: 5.87 ms\n"
          ]
        }
      ]
    },
    {
      "cell_type": "code",
      "source": [
        "# factorial with iteration and recursion both"
      ],
      "metadata": {
        "id": "lOQWkkda6iH2"
      },
      "execution_count": null,
      "outputs": []
    },
    {
      "cell_type": "code",
      "source": [
        "def factorial(n):\n",
        "    result = 1\n",
        "    for i in range(1, n+1):\n",
        "        result *= i\n",
        "    return result\n"
      ],
      "metadata": {
        "id": "AjgZCtjw-sj9"
      },
      "execution_count": null,
      "outputs": []
    },
    {
      "cell_type": "code",
      "source": [
        "%%time\n",
        "fact=factorial(1000)\n",
        "\n",
        "print(\"Factorial is \",fact)"
      ],
      "metadata": {
        "colab": {
          "base_uri": "https://localhost:8080/"
        },
        "id": "mgEPVCQf-v0F",
        "outputId": "2622105e-0400-4101-c3e3-f53fa7189b4f"
      },
      "execution_count": null,
      "outputs": [
        {
          "output_type": "stream",
          "name": "stdout",
          "text": [
            "Factorial is  402387260077093773543702433923003985719374864210714632543799910429938512398629020592044208486969404800479988610197196058631666872994808558901323829669944590997424504087073759918823627727188732519779505950995276120874975462497043601418278094646496291056393887437886487337119181045825783647849977012476632889835955735432513185323958463075557409114262417474349347553428646576611667797396668820291207379143853719588249808126867838374559731746136085379534524221586593201928090878297308431392844403281231558611036976801357304216168747609675871348312025478589320767169132448426236131412508780208000261683151027341827977704784635868170164365024153691398281264810213092761244896359928705114964975419909342221566832572080821333186116811553615836546984046708975602900950537616475847728421889679646244945160765353408198901385442487984959953319101723355556602139450399736280750137837615307127761926849034352625200015888535147331611702103968175921510907788019393178114194545257223865541461062892187960223838971476088506276862967146674697562911234082439208160153780889893964518263243671616762179168909779911903754031274622289988005195444414282012187361745992642956581746628302955570299024324153181617210465832036786906117260158783520751516284225540265170483304226143974286933061690897968482590125458327168226458066526769958652682272807075781391858178889652208164348344825993266043367660176999612831860788386150279465955131156552036093988180612138558600301435694527224206344631797460594682573103790084024432438465657245014402821885252470935190620929023136493273497565513958720559654228749774011413346962715422845862377387538230483865688976461927383814900140767310446640259899490222221765904339901886018566526485061799702356193897017860040811889729918311021171229845901641921068884387121855646124960798722908519296819372388642614839657382291123125024186649353143970137428531926649875337218940694281434118520158014123344828015051399694290153483077644569099073152433278288269864602789864321139083506217095002597389863554277196742822248757586765752344220207573630569498825087968928162753848863396909959826280956121450994871701244516461260379029309120889086942028510640182154399457156805941872748998094254742173582401063677404595741785160829230135358081840096996372524230560855903700624271243416909004153690105933983835777939410970027753472000000000000000000000000000000000000000000000000000000000000000000000000000000000000000000000000000000000000000000000000000000000000000000000000000000000000000000000000000000000000000000000000000000000000000000000000000000000000000000000000000000000\n",
            "CPU times: user 379 µs, sys: 0 ns, total: 379 µs\n",
            "Wall time: 384 µs\n"
          ]
        }
      ]
    },
    {
      "cell_type": "code",
      "source": [
        "# recursive approach"
      ],
      "metadata": {
        "id": "iKDETdNU_V8p"
      },
      "execution_count": null,
      "outputs": []
    },
    {
      "cell_type": "code",
      "source": [
        "def rec_fact(n):\n",
        "  # base case\n",
        "  if n == 1:\n",
        "    return 1\n",
        "\n",
        "  return n * rec_fact(n-1)"
      ],
      "metadata": {
        "id": "Ipy8Usy8_dmE"
      },
      "execution_count": null,
      "outputs": []
    },
    {
      "cell_type": "code",
      "source": [
        "%%time\n",
        "fact=rec_fact(100)\n",
        "\n",
        "print(\"Factorial is \",fact)"
      ],
      "metadata": {
        "colab": {
          "base_uri": "https://localhost:8080/"
        },
        "id": "XFHvR_5UAIZj",
        "outputId": "01fbf87c-e84f-4cd0-c30b-049a7100752d"
      },
      "execution_count": null,
      "outputs": [
        {
          "output_type": "stream",
          "name": "stdout",
          "text": [
            "Factorial is  93326215443944152681699238856266700490715968264381621468592963895217599993229915608941463976156518286253697920827223758251185210916864000000000000000000000000\n",
            "CPU times: user 95 µs, sys: 9 µs, total: 104 µs\n",
            "Wall time: 107 µs\n"
          ]
        }
      ]
    },
    {
      "cell_type": "code",
      "source": [
        "def count_paths(row, col, m, n):\n",
        "    if row == m - 1 and col == n - 1:\n",
        "        return 1\n",
        "\n",
        "    if row >= m or col >= n:\n",
        "        return 0\n",
        "\n",
        "    right_path_count = count_paths(row, col + 1, m, n)\n",
        "    down_path_count = count_paths(row + 1, col, m, n)\n",
        "\n",
        "    return right_path_count + down_path_count\n",
        "\n",
        "# Example usage:\n",
        "m, n = 3, 3  # Dimensions of the grid\n",
        "total_paths = count_paths(0, 0, m, n)\n",
        "\n",
        "print(f\"The total number of paths in a {m}x{n} grid is: {total_paths}\")\n"
      ],
      "metadata": {
        "colab": {
          "base_uri": "https://localhost:8080/"
        },
        "id": "E4eVUlWuAMmC",
        "outputId": "298f71fa-0e7f-4ecb-cc4f-b7038d89647a"
      },
      "execution_count": null,
      "outputs": [
        {
          "output_type": "stream",
          "name": "stdout",
          "text": [
            "The total number of paths in a 3x3 grid is: 6\n"
          ]
        }
      ]
    },
    {
      "cell_type": "code",
      "source": [
        "def jatin_permutation(s):\n",
        "   if len(s) == 1:\n",
        "     return [s]\n",
        "\n",
        "   perm_list = [] # resulting list\n",
        "   for a in s: # lets say a = 1, a = 2, 3\n",
        "     remaining_elements = [x for x in s if x != a] # this will store [2,3] [3] []\n",
        "     z = jatin_permutation(remaining_elements) # permutations of sublist\n",
        "\n",
        "     for t in z:\n",
        "       perm_list.append([a] + t)\n",
        "\n",
        "   return perm_list"
      ],
      "metadata": {
        "id": "vkkKzU3UGzcv"
      },
      "execution_count": null,
      "outputs": []
    },
    {
      "cell_type": "code",
      "source": [
        "permutation([1,2,3])"
      ],
      "metadata": {
        "colab": {
          "base_uri": "https://localhost:8080/"
        },
        "id": "QNDZq_KLOL6v",
        "outputId": "c94f357a-2e67-456f-d53d-f482b8854017"
      },
      "execution_count": null,
      "outputs": [
        {
          "output_type": "execute_result",
          "data": {
            "text/plain": [
              "[[1, 2, 3], [1, 3, 2], [2, 1, 3], [2, 3, 1], [3, 1, 2], [3, 2, 1]]"
            ]
          },
          "metadata": {},
          "execution_count": 51
        }
      ]
    },
    {
      "cell_type": "code",
      "source": [],
      "metadata": {
        "id": "P9Pyw-NJOOT6"
      },
      "execution_count": null,
      "outputs": []
    }
  ]
}