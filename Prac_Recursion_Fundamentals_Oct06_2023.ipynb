{
  "nbformat": 4,
  "nbformat_minor": 0,
  "metadata": {
    "colab": {
      "provenance": [],
      "include_colab_link": true
    },
    "kernelspec": {
      "name": "python3",
      "display_name": "Python 3"
    },
    "language_info": {
      "name": "python"
    }
  },
  "cells": [
    {
      "cell_type": "markdown",
      "metadata": {
        "id": "view-in-github",
        "colab_type": "text"
      },
      "source": [
        "<a href=\"https://colab.research.google.com/github/annuu1101/module22/blob/main/Prac_Recursion_Fundamentals_Oct06_2023.ipynb\" target=\"_parent\"><img src=\"https://colab.research.google.com/assets/colab-badge.svg\" alt=\"Open In Colab\"/></a>"
      ]
    },
    {
      "cell_type": "code",
      "execution_count": null,
      "metadata": {
        "colab": {
          "base_uri": "https://localhost:8080/"
        },
        "id": "k9mAH3Q-XZ45",
        "outputId": "dd4ddd04-6363-4f93-b223-b567df857c0b"
      },
      "outputs": [
        {
          "output_type": "stream",
          "name": "stdout",
          "text": [
            "3\n",
            "4\n",
            "12\n",
            "213\n",
            "4\n",
            "21\n",
            "12\n"
          ]
        }
      ],
      "source": [
        "li = [3,4,12,213,4,21,12]\n",
        "\n",
        "for i in li:\n",
        "  print(i)"
      ]
    },
    {
      "cell_type": "code",
      "source": [
        "def rec_first(a):\n",
        "\n",
        "  print(a[0])\n"
      ],
      "metadata": {
        "id": "ZcOn9r0jdKcF"
      },
      "execution_count": null,
      "outputs": []
    },
    {
      "cell_type": "code",
      "source": [
        "rec_first(li)"
      ],
      "metadata": {
        "colab": {
          "base_uri": "https://localhost:8080/"
        },
        "id": "46Yn4rWpdZu8",
        "outputId": "b38b46c4-aae3-4faf-b9be-5558cdb8f2ac"
      },
      "execution_count": null,
      "outputs": [
        {
          "output_type": "stream",
          "name": "stdout",
          "text": [
            "3\n"
          ]
        }
      ]
    },
    {
      "cell_type": "code",
      "source": [
        "new = li[1:]"
      ],
      "metadata": {
        "id": "W0aZF0DIdmfT"
      },
      "execution_count": null,
      "outputs": []
    },
    {
      "cell_type": "code",
      "source": [
        "new"
      ],
      "metadata": {
        "colab": {
          "base_uri": "https://localhost:8080/"
        },
        "id": "tNNOxpQOemlp",
        "outputId": "f8052899-0cb1-4b23-f103-e0ef0f5ebf66"
      },
      "execution_count": null,
      "outputs": [
        {
          "output_type": "execute_result",
          "data": {
            "text/plain": [
              "[4, 12, 213, 4, 21, 12]"
            ]
          },
          "metadata": {},
          "execution_count": 8
        }
      ]
    },
    {
      "cell_type": "code",
      "source": [
        "rec_first(new)"
      ],
      "metadata": {
        "colab": {
          "base_uri": "https://localhost:8080/"
        },
        "id": "kSD0zuu0dhN0",
        "outputId": "9439d6dd-fccc-46e4-9418-571225b02e24"
      },
      "execution_count": null,
      "outputs": [
        {
          "output_type": "stream",
          "name": "stdout",
          "text": [
            "4\n"
          ]
        }
      ]
    },
    {
      "cell_type": "code",
      "source": [
        "again_new = new[1:]"
      ],
      "metadata": {
        "id": "7O2lkMtVesl-"
      },
      "execution_count": null,
      "outputs": []
    },
    {
      "cell_type": "code",
      "source": [
        "again_new"
      ],
      "metadata": {
        "colab": {
          "base_uri": "https://localhost:8080/"
        },
        "id": "sVj4_UcIex6E",
        "outputId": "5a0cea1e-fac4-42e3-c5df-d37426f7fa3f"
      },
      "execution_count": null,
      "outputs": [
        {
          "output_type": "execute_result",
          "data": {
            "text/plain": [
              "[12, 213, 4, 21, 12]"
            ]
          },
          "metadata": {},
          "execution_count": 12
        }
      ]
    },
    {
      "cell_type": "code",
      "source": [
        "rec_first(again_new)"
      ],
      "metadata": {
        "colab": {
          "base_uri": "https://localhost:8080/"
        },
        "id": "B2iJQACLdnpE",
        "outputId": "192971e6-bfc5-46bc-87b2-45f9ece2ca56"
      },
      "execution_count": null,
      "outputs": [
        {
          "output_type": "stream",
          "name": "stdout",
          "text": [
            "12\n"
          ]
        }
      ]
    },
    {
      "cell_type": "code",
      "source": [
        "again_again_new = again_new[1:]"
      ],
      "metadata": {
        "id": "mHVja3DXezYE"
      },
      "execution_count": null,
      "outputs": []
    },
    {
      "cell_type": "code",
      "source": [
        "rec_first(again_again_new)"
      ],
      "metadata": {
        "colab": {
          "base_uri": "https://localhost:8080/"
        },
        "id": "THD5Nn9lezVP",
        "outputId": "5833659b-d71a-4b40-8a5a-c37666b16d9c"
      },
      "execution_count": null,
      "outputs": [
        {
          "output_type": "stream",
          "name": "stdout",
          "text": [
            "213\n"
          ]
        }
      ]
    },
    {
      "cell_type": "code",
      "source": [],
      "metadata": {
        "id": "Va003F1uezSi"
      },
      "execution_count": null,
      "outputs": []
    },
    {
      "cell_type": "code",
      "source": [],
      "metadata": {
        "id": "DSS25aeZezQE"
      },
      "execution_count": null,
      "outputs": []
    },
    {
      "cell_type": "code",
      "source": [],
      "metadata": {
        "id": "rrPdVKw3ezNC"
      },
      "execution_count": null,
      "outputs": []
    },
    {
      "cell_type": "code",
      "source": [],
      "metadata": {
        "id": "fYJFiL67fRo2"
      },
      "execution_count": null,
      "outputs": []
    },
    {
      "cell_type": "code",
      "source": [
        "def rec_first(a):\n",
        "\n",
        "  if len(a) == 0:\n",
        "    return\n",
        "\n",
        "  print(a[0])\n",
        "  return rec_first(a[1:])"
      ],
      "metadata": {
        "id": "qUzypppUdpyl"
      },
      "execution_count": null,
      "outputs": []
    },
    {
      "cell_type": "code",
      "source": [
        "rec_first(li)"
      ],
      "metadata": {
        "colab": {
          "base_uri": "https://localhost:8080/"
        },
        "id": "r5kXBC5qfs36",
        "outputId": "3435d016-7399-486a-8e32-dbe2900a2ad5"
      },
      "execution_count": null,
      "outputs": [
        {
          "output_type": "stream",
          "name": "stdout",
          "text": [
            "3\n",
            "4\n",
            "12\n",
            "213\n",
            "4\n",
            "21\n",
            "12\n"
          ]
        }
      ]
    },
    {
      "cell_type": "code",
      "source": [
        "a = [1]"
      ],
      "metadata": {
        "id": "0sEgGJ01fuXO"
      },
      "execution_count": null,
      "outputs": []
    },
    {
      "cell_type": "code",
      "source": [
        "print(a[0])\n"
      ],
      "metadata": {
        "colab": {
          "base_uri": "https://localhost:8080/"
        },
        "id": "4qhaDWvPhajF",
        "outputId": "294d37b0-1519-4a88-917a-daf5737c24a4"
      },
      "execution_count": null,
      "outputs": [
        {
          "output_type": "stream",
          "name": "stdout",
          "text": [
            "1\n"
          ]
        }
      ]
    },
    {
      "cell_type": "code",
      "source": [
        "a[1:]"
      ],
      "metadata": {
        "colab": {
          "base_uri": "https://localhost:8080/"
        },
        "id": "6D8s75g9hbGZ",
        "outputId": "bbbf83b0-42c1-4cb8-da30-a132d9784bb1"
      },
      "execution_count": null,
      "outputs": [
        {
          "output_type": "execute_result",
          "data": {
            "text/plain": [
              "[]"
            ]
          },
          "metadata": {},
          "execution_count": 20
        }
      ]
    },
    {
      "cell_type": "code",
      "source": [
        "## factorial"
      ],
      "metadata": {
        "id": "caDNZkGJhlln"
      },
      "execution_count": null,
      "outputs": []
    },
    {
      "cell_type": "code",
      "source": [
        "def fact(a):\n",
        "\n",
        "  if a == 1: # base case\n",
        "\n",
        "    return 1\n",
        "\n",
        "\n",
        "  return a * fact(a-1) # recursive call"
      ],
      "metadata": {
        "id": "az_6Yo_TjBAS"
      },
      "execution_count": null,
      "outputs": []
    },
    {
      "cell_type": "code",
      "source": [
        "fact(4)"
      ],
      "metadata": {
        "colab": {
          "base_uri": "https://localhost:8080/"
        },
        "id": "IW7ice_JjQUD",
        "outputId": "54bfdeb6-a05a-4202-b2bd-f72f16a2c0a9"
      },
      "execution_count": null,
      "outputs": [
        {
          "output_type": "execute_result",
          "data": {
            "text/plain": [
              "24"
            ]
          },
          "metadata": {},
          "execution_count": 31
        }
      ]
    },
    {
      "cell_type": "code",
      "source": [
        "def fib(a):\n",
        "\n",
        "  if a == 1 or a == 2: # the base case\n",
        "    return 1\n",
        "\n",
        "  return fib(a-1) + fib(a-2)"
      ],
      "metadata": {
        "id": "jRDkHlHljRMy"
      },
      "execution_count": null,
      "outputs": []
    },
    {
      "cell_type": "code",
      "source": [
        "fib(6)"
      ],
      "metadata": {
        "colab": {
          "base_uri": "https://localhost:8080/"
        },
        "id": "HOO95Bn2mGD2",
        "outputId": "e7b3cdbd-928e-4e43-f3a7-632ed41a60f9"
      },
      "execution_count": null,
      "outputs": [
        {
          "output_type": "execute_result",
          "data": {
            "text/plain": [
              "8"
            ]
          },
          "metadata": {},
          "execution_count": 35
        }
      ]
    },
    {
      "cell_type": "code",
      "source": [
        "1 1 2 3 5 8 13 21"
      ],
      "metadata": {
        "id": "JEwoPJvomHlo"
      },
      "execution_count": null,
      "outputs": []
    }
  ]
}